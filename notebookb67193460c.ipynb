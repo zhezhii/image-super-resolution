{
 "cells": [
  {
   "cell_type": "code",
   "execution_count": null,
   "id": "d582cd52",
   "metadata": {
    "_cell_guid": "b1076dfc-b9ad-4769-8c92-a6c4dae69d19",
    "_uuid": "8f2839f25d086af736a60e9eeb907d3b93b6e0e5",
    "execution": {
     "iopub.status.idle": "2024-04-30T09:16:41.999670Z",
     "shell.execute_reply": "2024-04-30T09:16:41.997917Z",
     "shell.execute_reply.started": "2024-04-30T09:16:18.439715Z"
    },
    "papermill": {
     "duration": 0.001971,
     "end_time": "2024-04-30T09:27:43.646081",
     "exception": false,
     "start_time": "2024-04-30T09:27:43.644110",
     "status": "completed"
    },
    "tags": []
   },
   "outputs": [],
   "source": []
  },
  {
   "cell_type": "code",
   "execution_count": null,
   "id": "91e3cc0c",
   "metadata": {
    "papermill": {
     "duration": 0.001227,
     "end_time": "2024-04-30T09:27:43.649010",
     "exception": false,
     "start_time": "2024-04-30T09:27:43.647783",
     "status": "completed"
    },
    "tags": []
   },
   "outputs": [],
   "source": []
  }
 ],
 "metadata": {
  "kaggle": {
   "accelerator": "none",
   "dataSources": [],
   "dockerImageVersionId": 30698,
   "isGpuEnabled": false,
   "isInternetEnabled": false,
   "language": "python",
   "sourceType": "notebook"
  },
  "kernelspec": {
   "display_name": "Python 3",
   "language": "python",
   "name": "python3"
  },
  "language_info": {
   "codemirror_mode": {
    "name": "ipython",
    "version": 3
   },
   "file_extension": ".py",
   "mimetype": "text/x-python",
   "name": "python",
   "nbconvert_exporter": "python",
   "pygments_lexer": "ipython3",
   "version": "3.10.13"
  },
  "papermill": {
   "default_parameters": {},
   "duration": 3.177925,
   "end_time": "2024-04-30T09:27:43.971125",
   "environment_variables": {},
   "exception": null,
   "input_path": "__notebook__.ipynb",
   "output_path": "__notebook__.ipynb",
   "parameters": {},
   "start_time": "2024-04-30T09:27:40.793200",
   "version": "2.5.0"
  }
 },
 "nbformat": 4,
 "nbformat_minor": 5
}
